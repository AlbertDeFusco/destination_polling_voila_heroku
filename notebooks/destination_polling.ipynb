{
 "cells": [
  {
   "cell_type": "markdown",
   "metadata": {},
   "source": [
    "# Destination polling\n",
    "\n",
    "In this notebook we show how to deploy an interactive jupyter notebook (like this one) using Voila and Heroku. We were inspired by [Martin Renou's repository](https://github.com/martinRenou/voila_heroku) so we follow closely his steps for deployment, while adding interactivity to the notebook with the use of ipywidgets and ipyleaflet libraries.\n",
    "\n",
    "## App objective\n",
    "\n",
    "The purpose of this app is to poll attendees to an event, e.g. a meeting, and display the results of the polling. Also, we would like to showcase some of the possibilities of using notebooks and voila for creating useful simple apps. \n",
    "\n",
    "In this example the attendee is presented with the question: Where would you like to go for vacation?\n",
    "After typing the desired destination, we send a geocoding request to LocationIQ using the geocoder library to get a list of potential locations.\n",
    "\n",
    "If we receive a valid response from the request we present the user with the returned list (up to four) of places that match the desired destination on a Select widget. By default, we show on a ipyleaflet Map a Marker located on the coordinates of the first returned location. This Marker position will change based on the user selection from the Selection widget.\n",
    "\n",
    "Once the user has selected the desired location we store it and then we present the user with the current results of the polling on a map, with one circle (CircleMarker) for each different destination entered, varying the circle radius base on the total number of votes (popularity) for that particular destination. \n",
    "\n",
    "## LocationIQ setup\n",
    "\n",
    "The are a lot of [geocoding providers](https://geocoder.readthedocs.io/index.html#providers) supported by the geocoder library. Our LocationIQ choice was made based on [minimal restrictions and setup requirements](https://locationiq.com/pricing) for a free account.\n",
    "\n",
    "### Restrictions\n",
    "\n",
    "As our geocoding requests will be submitted by people and not machines, we can comply with the first 3 restrictions without too much trouble. For the last three restrictions we annotate the reason it doesn't apply to us:  \n",
    "\n",
    "1. 10,000 requests /day \n",
    "2. 60 requests /minute \n",
    "3. 2 requests /second \n",
    "4. Street maps only: We won't use this.\n",
    "5. Limited commercial use: Our tool is not commercial.\n",
    "6. Cache results for upto 48 hours: Free Heroku app resets after 30 min. of idleness. \n",
    "\n",
    "\n",
    "### Setup requirements\n",
    "\n",
    "First setup your [LocationIQ free account](https://locationiq.com/register). You will only need a valid email address. Just follow the steps on the website.\n",
    "\n",
    "After successful registration you will be provided with a key. This key must be stored in the text file (key.txt) next to this notebook's location. \n",
    "\n",
    "\n",
    "## Heroku setup\n",
    "\n",
    "Get a free Heroku account and follow this instructions to [install Heroku CLI](https://devcenter.heroku.com/articles/getting-started-with-python#set-up) on your machine.\n",
    "\n",
    "\n",
    "## Dependencies\n",
    "\n",
    "We need to install these libraries the current environment before executing the next cell:\n",
    "\n",
    "1. [ipywidget](https://ipywidgets.readthedocs.io/en/latest/user_install.html):\n",
    "    `conda install -c conda-forge ipywidgets`\n",
    "\n",
    "2. [ipyleaflet](https://ipyleaflet.readthedocs.io/en/latest/installation.html):\n",
    "`conda install -c conda-forge ipyleaflet`\n",
    "\n",
    "3. [geocoder](https://geocoder.readthedocs.io/api.html#installation):\n",
    "`pip install geocoder`\n",
    "\n",
    "4. [voila](https://github.com/QuantStack/voila):\n",
    "`conda install voila -c conda-forge`"
   ]
  },
  {
   "cell_type": "code",
   "execution_count": 1,
   "metadata": {
    "ExecuteTime": {
     "end_time": "2019-09-06T14:39:30.625716Z",
     "start_time": "2019-09-06T14:39:29.910753Z"
    }
   },
   "outputs": [],
   "source": [
    "import time\n",
    "import json\n",
    "from ipyleaflet import Map, CircleMarker, Marker, FullScreenControl, WidgetControl, basemaps, basemap_to_tiles\n",
    "from ipywidgets import HTML, Button, Text, Select\n",
    "\n",
    "import geocoder\n",
    "\n",
    "import warnings\n",
    "\n",
    "warnings.filterwarnings(\"ignore\")\n",
    "\n",
    "# conda install -c conda-forge ipywidgets\n",
    "# https://ipywidgets.readthedocs.io/en/latest/user_install.html\n",
    "\n",
    "# conda install -c conda-forge ipyleaflet\n",
    "# https://ipyleaflet.readthedocs.io/en/latest/installation.html\n",
    "\n",
    "# pip install geocoder\n",
    "# https://geocoder.readthedocs.io/api.html#installation\n",
    "\n",
    "# conda install voila -c conda-forge\n",
    "# https://github.com/QuantStack/voila"
   ]
  },
  {
   "cell_type": "markdown",
   "metadata": {},
   "source": [
    "# Run once: Save initial JSON\n",
    "\n",
    "## TODO: Remove in final version"
   ]
  },
  {
   "cell_type": "code",
   "execution_count": 2,
   "metadata": {
    "ExecuteTime": {
     "end_time": "2019-08-27T15:10:55.889743Z",
     "start_time": "2019-08-27T15:10:55.882725Z"
    }
   },
   "outputs": [],
   "source": [
    "if False:\n",
    "    # Save this\n",
    "    cities = {'214334866': {'lat': 40.7127281,\n",
    "      'lon': -74.0060152,\n",
    "      'address': 'New York City, New York, USA',\n",
    "      'count': 1}}\n",
    "\n",
    "    with open(\"cities.json\", \"w\") as fp:\n",
    "        json.dump(cities, fp)"
   ]
  },
  {
   "cell_type": "markdown",
   "metadata": {},
   "source": [
    "# User interface"
   ]
  },
  {
   "cell_type": "markdown",
   "metadata": {},
   "source": [
    "## Widgets\n",
    "\n",
    "First we define the widgets to be used in the map (ipyleaflet):\n",
    "\n",
    "- input_city: A Text field for the user to input the name of a place.\n",
    "\n",
    "- geocode_input_city: A button to process the place typed in the input_city text field. This will trigger a geocoding query. If successful present geocoding results in the select widget, set the select option index to the first element, and then place a marker on the map tied to this option's coordinates; else invite user to input a valid place.\n",
    "\n",
    "- select: A single selection from options widget. Selection options are based on the geocoding results. The index will default to the first place returned by the geocoding. If the option is changed, the current marker will be remove, and a new marker will be added to the map.\n",
    "\n",
    "- vote: Add the current selected option to the database (JSON file). Then display circle markers to show all entries to date, with the circle size proportional to the place's popularity (total number of entries or count). Then, deactivate all widgets to prevent the user from submitting multiple votes, and activate the refresh button, so the user can get and updated view after casting his/her vote."
   ]
  },
  {
   "cell_type": "code",
   "execution_count": 3,
   "metadata": {
    "ExecuteTime": {
     "end_time": "2019-08-27T15:10:55.956321Z",
     "start_time": "2019-08-27T15:10:55.894756Z"
    }
   },
   "outputs": [],
   "source": [
    "input_city = Text(\n",
    "                value=\"Tahiti\",\n",
    "                placeholder=\"Type the name of a place\",\n",
    "                description=\"Where to?\",\n",
    "                disabled=False\n",
    "            )\n",
    "\n",
    "geocode_input_city = Button(\n",
    "                description=\"Find places\",\n",
    "                disabled=False,\n",
    "                button_style=\"success\", # 'success', 'info', 'warning', 'danger' or ''\n",
    "                tooltip=\"Click me\",\n",
    "                icon='check'\n",
    "            )\n",
    "\n",
    "#style = {\"description_width\": \"initial\"}\n",
    "select = Select(\n",
    "            options=[\"\"],\n",
    "            value= \"\",\n",
    "            # rows=10,\n",
    "            description=\"Select a city:\",\n",
    "            disabled=False,\n",
    "           # style=style\n",
    "            )\n",
    "\n",
    "\n",
    "vote = Button(\n",
    "              description=\"Vote!\",\n",
    "              disabled=True,\n",
    "              button_style=\"success\", # 'success', 'info', 'warning', 'danger' or ''\n",
    "              tooltip=\"Click me\",\n",
    "              icon='check'\n",
    "            )\n",
    "\n",
    "refresh = Button(\n",
    "              description=\"Refresh map\",\n",
    "              disabled=False,\n",
    "              button_style=\"info\", # 'success', 'info', 'warning', 'danger' or ''\n",
    "              tooltip=\"Click me\",\n",
    "              icon='check'\n",
    "            )"
   ]
  },
  {
   "cell_type": "markdown",
   "metadata": {},
   "source": [
    "## Map\n",
    "\n",
    "For geocoding we will use [LocationIQ](https://locationiq.com/). A key is required to use their API, to monitor fair use of their service. To get a free key you will only need a valid email address. Free account use restrictions are:\n",
    "\n",
    "- 10,000 requests /day \n",
    "- 60 requests /minute \n",
    "- 2 requests /second \n",
    "- Street maps only\n",
    "- Limited commercial use\n",
    "- Cache results for upto 48 hours\n",
    "\n",
    "As our use case is well within these restrictions we considered this a reasonable compromise."
   ]
  },
  {
   "cell_type": "code",
   "execution_count": 4,
   "metadata": {
    "ExecuteTime": {
     "end_time": "2019-08-27T15:10:55.968353Z",
     "start_time": "2019-08-27T15:10:55.959332Z"
    }
   },
   "outputs": [],
   "source": [
    "with open(\"key.txt\", \"r\") as fhandle:\n",
    "    key = fhandle.readline().split()[0]"
   ]
  },
  {
   "cell_type": "code",
   "execution_count": 5,
   "metadata": {
    "ExecuteTime": {
     "end_time": "2019-08-27T15:10:55.991823Z",
     "start_time": "2019-08-27T15:10:55.972372Z"
    }
   },
   "outputs": [],
   "source": [
    "def on_geocode_input_city_cliked(button):\n",
    "    \n",
    "    # TODO: How to pass around the geocoded object? using global variable for now\n",
    "    global geocoded_cities\n",
    "    geocoded_cities = geocoder.locationiq(input_city.value, key=key, maxRows=4)\n",
    "    \n",
    "    if geocoded_cities.ok:\n",
    "        \n",
    "        select.options = [city.address for city in geocoded_cities]\n",
    "        \n",
    "        if geocode_input_city.button_style != \"success\":\n",
    "            geocode_input_city.button_style = \"success\"\n",
    "        \n",
    "        select.index = 0\n",
    "        \n",
    "        vote.disabled=False\n",
    "        \n",
    "    else:\n",
    "        select.options = [\"Please try again\"]\n",
    "        geocode_input_city.button_style = \"danger\"\n",
    "        geocode_input_city.description = \"Invalid city name\"\n",
    "        \n",
    "        vote.disabled=True"
   ]
  },
  {
   "cell_type": "code",
   "execution_count": 6,
   "metadata": {
    "ExecuteTime": {
     "end_time": "2019-08-27T15:10:55.999837Z",
     "start_time": "2019-08-27T15:10:55.994823Z"
    }
   },
   "outputs": [],
   "source": [
    "# revert button style to success, after a bad city input\n",
    "def on_input_text_selection(change):\n",
    "    geocode_input_city.button_style = \"success\"\n",
    "    geocode_input_city.description = \"Find places\"\n",
    "    \n",
    "    select.options = [\"\"]\n",
    "    \n",
    "input_city.observe(on_input_text_selection, names=\"value\")"
   ]
  },
  {
   "cell_type": "code",
   "execution_count": 7,
   "metadata": {
    "ExecuteTime": {
     "end_time": "2019-08-27T15:10:56.008865Z",
     "start_time": "2019-08-27T15:10:56.002845Z"
    }
   },
   "outputs": [],
   "source": [
    "def remove_map_layer_type(m, layer_type):\n",
    "    for layer in m.layers:\n",
    "        if layer.__class__.__name__ == layer_type:\n",
    "            m.remove_layer(layer)"
   ]
  },
  {
   "cell_type": "code",
   "execution_count": 8,
   "metadata": {
    "ExecuteTime": {
     "end_time": "2019-08-27T15:10:56.024905Z",
     "start_time": "2019-08-27T15:10:56.013875Z"
    }
   },
   "outputs": [],
   "source": [
    "def on_selection_change(change):\n",
    "    \n",
    "    if geocoded_cities.ok:\n",
    "        remove_map_layer_type(m, \"Marker\")\n",
    "\n",
    "        city_idx = select.index\n",
    "        selected_city = geocoded_cities[city_idx]\n",
    "\n",
    "        name = selected_city.address\n",
    "        lat = selected_city.lat\n",
    "        long = selected_city.lng\n",
    "\n",
    "        marker = Marker(location=[lat, long])\n",
    "        m.add_layer(marker)\n",
    "\n",
    "        message = HTML()\n",
    "        message.value = name\n",
    "\n",
    "        marker.popup = message\n",
    "    \n",
    "select.observe(on_selection_change, names=\"index\")    "
   ]
  },
  {
   "cell_type": "code",
   "execution_count": 9,
   "metadata": {
    "ExecuteTime": {
     "end_time": "2019-08-27T15:10:56.041953Z",
     "start_time": "2019-08-27T15:10:56.029918Z"
    }
   },
   "outputs": [],
   "source": [
    "def refresh_plot(m, cities=None):\n",
    "    \n",
    "    # read cities stored in db (past votes)\n",
    "    if cities == None:\n",
    "        with open(\"cities.json\", \"r\") as fp:\n",
    "            cities = json.load(fp)\n",
    "    \n",
    "    # Remove old circles if present\n",
    "    remove_map_layer_type(m, \"CircleMarker\")\n",
    "    \n",
    "    # Get max_count to normalize the circle sizes\n",
    "    max_count = 0\n",
    "    for city in cities:\n",
    "        count = cities[city][\"count\"]\n",
    "        if max_count < count:\n",
    "            max_count = count\n",
    "    \n",
    "    # Plot circles for each city with radius proportinal to count (number of votes)\n",
    "    max_radius = 20\n",
    "    for city in cities:\n",
    "        name = cities[city][\"address\"].split(\",\")[0]\n",
    "        count = cities[city][\"count\"]\n",
    "        lat = cities[city][\"lat\"]\n",
    "        long = cities[city][\"lon\"]\n",
    "\n",
    "        radius = round((count * max_radius)/ max_count)\n",
    "        marker = CircleMarker(location=[lat, long], fill_color='red', color='red', radius=radius, weight=2)\n",
    "        m.add_layer(marker)\n",
    "        marker.popup = HTML(f\"{name}, Popularity: {count}\")"
   ]
  },
  {
   "cell_type": "code",
   "execution_count": 10,
   "metadata": {
    "ExecuteTime": {
     "end_time": "2019-08-27T15:10:56.061002Z",
     "start_time": "2019-08-27T15:10:56.045961Z"
    }
   },
   "outputs": [],
   "source": [
    "def on_vote_clicked(button):\n",
    "    \n",
    "    # remove selection markers\n",
    "    remove_map_layer_type(m, \"Marker\")\n",
    "    \n",
    "    # read cities stored in db (past votes)\n",
    "    with open(\"cities.json\", \"r\") as fp:\n",
    "        cities = json.load(fp)\n",
    "    \n",
    "    city_idx = select.index\n",
    "    selected_city = geocoded_cities[city_idx]\n",
    "    \n",
    "    # add to count if city in cities, else add city to dict\n",
    "    if geocoded_cities[city_idx].place_id in cities:\n",
    "        cities[selected_city.place_id][\"count\"] += 1\n",
    "    else:\n",
    "        cities[selected_city.place_id] = {\"lat\": selected_city.lat,\n",
    "                                          \"lon\": selected_city.lng,\n",
    "                                          \"address\": selected_city.address,\n",
    "                                          \"count\": 1}\n",
    "    # save db\n",
    "    with open(\"cities.json\", \"w\") as fp:\n",
    "        json.dump(cities, fp)\n",
    "        \n",
    "    select.disabled = True\n",
    "    vote.disabled = True\n",
    "    geocode_input_city.disabled = True\n",
    "    input_city.disabled = True\n",
    "    \n",
    "    refresh_plot(m, cities=cities)\n",
    "    \n",
    "    # Remove Widget controls after succesful vote\n",
    "    for control in m.controls:\n",
    "        if control.__class__.__name__ == \"WidgetControl\":\n",
    "            m.remove_control(control)\n",
    "    \n",
    "    # Add refresh button\n",
    "    widget_control_refresh = WidgetControl(widget=refresh, position=\"bottomleft\")\n",
    "    m.add_control(widget_control_refresh)"
   ]
  },
  {
   "cell_type": "code",
   "execution_count": 11,
   "metadata": {
    "ExecuteTime": {
     "end_time": "2019-08-27T15:10:56.071037Z",
     "start_time": "2019-08-27T15:10:56.065013Z"
    }
   },
   "outputs": [],
   "source": [
    "def on_refresh_clicked(button):\n",
    "    refresh_plot(m)"
   ]
  },
  {
   "cell_type": "code",
   "execution_count": 12,
   "metadata": {
    "ExecuteTime": {
     "end_time": "2019-08-27T15:10:56.154514Z",
     "start_time": "2019-08-27T15:10:56.075039Z"
    },
    "scrolled": false
   },
   "outputs": [
    {
     "data": {
      "application/vnd.jupyter.widget-view+json": {
       "model_id": "aa6fa5eb3e92469eb21405ce469807b7",
       "version_major": 2,
       "version_minor": 0
      },
      "text/plain": [
       "Map(basemap={'url': 'https://{s}.tile.openstreetmap.org/{z}/{x}/{y}.png', 'max_zoom': 19, 'attribution': 'Map …"
      ]
     },
     "metadata": {},
     "output_type": "display_data"
    },
    {
     "name": "stderr",
     "output_type": "stream",
     "text": [
      "Status code 404 from https://locationiq.org/v1/search.php: ERROR - 404 Client Error: Not Found for url: https://locationiq.org/v1/search.php?key=3ba299e90244b4&q=xxyy&format=json&addressdetails=1&limit=4\n"
     ]
    }
   ],
   "source": [
    "m = Map(zoom=2, world_copy_jump=True)\n",
    "\n",
    "# TODO: Constrain to only 1 or 1.5 background map\n",
    "\n",
    "m.add_control(FullScreenControl())\n",
    "\n",
    "widget_control_inputText = WidgetControl(widget=input_city, position=\"bottomleft\")\n",
    "widget_control_geocode_input_city = WidgetControl(widget=geocode_input_city, position=\"bottomleft\")\n",
    "widget_control_select = WidgetControl(widget=select, position=\"bottomleft\")\n",
    "widget_control_vote = WidgetControl(widget=vote, position=\"bottomleft\")\n",
    "\n",
    "m.add_control(widget_control_vote)\n",
    "m.add_control(widget_control_select)\n",
    "m.add_control(widget_control_geocode_input_city)\n",
    "m.add_control(widget_control_inputText)\n",
    "\n",
    "geocode_input_city.on_click(on_geocode_input_city_cliked)\n",
    "\n",
    "vote.on_click(on_vote_clicked)\n",
    "\n",
    "refresh.on_click(on_refresh_clicked)\n",
    "\n",
    "m"
   ]
  },
  {
   "cell_type": "code",
   "execution_count": null,
   "metadata": {},
   "outputs": [],
   "source": []
  }
 ],
 "metadata": {
  "hide_input": false,
  "kernelspec": {
   "display_name": "net19",
   "language": "python",
   "name": "net19"
  },
  "language_info": {
   "codemirror_mode": {
    "name": "ipython",
    "version": 3
   },
   "file_extension": ".py",
   "mimetype": "text/x-python",
   "name": "python",
   "nbconvert_exporter": "python",
   "pygments_lexer": "ipython3",
   "version": "3.7.4"
  },
  "toc": {
   "base_numbering": 1,
   "nav_menu": {},
   "number_sections": true,
   "sideBar": true,
   "skip_h1_title": false,
   "title_cell": "Table of Contents",
   "title_sidebar": "Contents",
   "toc_cell": false,
   "toc_position": {},
   "toc_section_display": true,
   "toc_window_display": false
  },
  "varInspector": {
   "cols": {
    "lenName": 16,
    "lenType": 16,
    "lenVar": 40
   },
   "kernels_config": {
    "python": {
     "delete_cmd_postfix": "",
     "delete_cmd_prefix": "del ",
     "library": "var_list.py",
     "varRefreshCmd": "print(var_dic_list())"
    },
    "r": {
     "delete_cmd_postfix": ") ",
     "delete_cmd_prefix": "rm(",
     "library": "var_list.r",
     "varRefreshCmd": "cat(var_dic_list()) "
    }
   },
   "types_to_exclude": [
    "module",
    "function",
    "builtin_function_or_method",
    "instance",
    "_Feature"
   ],
   "window_display": false
  }
 },
 "nbformat": 4,
 "nbformat_minor": 2
}
