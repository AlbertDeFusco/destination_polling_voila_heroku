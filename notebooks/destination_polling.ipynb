{
 "cells": [
  {
   "cell_type": "markdown",
   "metadata": {},
   "source": [
    "# App objective\n",
    "\n",
    "The purpose of this app is to poll attendees to an event, e.g. a meeting, and display the results of the polling. Also, we would like to showcase some of the possibilities of using notebooks and voila for creating useful simple apps. \n",
    "\n",
    "In this example the attendee is presented with the question: Where would you like to go for vacation?\n",
    "After typing the desired destination, we send a geocoding request to LocationIQ using the geocoder library to get a list of potential locations.\n",
    "\n",
    "If we receive a valid response from the request we present the user with the returned list (up to four) of places that match the desired destination on a Select widget. By default, we show on a ipyleaflet Map a Marker located on the coordinates of the first returned location. This Marker position will change based on the user selection from the Selection widget.\n",
    "\n",
    "Once the user has selected the desired location we store it and then we present the user with the current results of the polling on a map, with one circle (CircleMarker) for each different destination entered, varying the circle radius based on the total number of votes (popularity) for that particular destination.\n",
    "\n",
    "\n",
    "# Dependencies\n",
    "\n",
    "If running locally, we need to install these libraries the current environment before executing the next cell:\n",
    "\n",
    "1. [ipywidget](https://ipywidgets.readthedocs.io/en/latest/user_install.html):\n",
    "    `conda install -c conda-forge ipywidgets`\n",
    "\n",
    "2. [ipyleaflet](https://ipyleaflet.readthedocs.io/en/latest/installation.html):\n",
    "    `conda install -c conda-forge ipyleaflet`\n",
    "\n",
    "3. [geocoder](https://geocoder.readthedocs.io/api.html#installation):\n",
    "    `pip install geocoder`\n",
    "\n",
    "4. [voila](https://github.com/QuantStack/voila):\n",
    "    `conda install voila -c conda-forge`\n",
    "\n",
    "5. [psycopg2-binary](http://initd.org/psycopg/docs/install.html):\n",
    "    `pip install psycopg2-binary`"
   ]
  },
  {
   "cell_type": "code",
   "execution_count": 1,
   "metadata": {
    "ExecuteTime": {
     "end_time": "2019-09-25T03:48:19.495109Z",
     "start_time": "2019-09-25T03:48:18.864641Z"
    }
   },
   "outputs": [],
   "source": [
    "import os\n",
    "import psycopg2\n",
    "from ipyleaflet import Map, CircleMarker, Marker, FullScreenControl, WidgetControl, basemaps, basemap_to_tiles\n",
    "from ipywidgets import HTML, Button, Text, Select, Layout\n",
    "\n",
    "import geocoder\n",
    "\n",
    "import warnings\n",
    "\n",
    "warnings.filterwarnings(\"ignore\")"
   ]
  },
  {
   "cell_type": "markdown",
   "metadata": {},
   "source": [
    "# Database setup\n",
    "\n",
    "We have two databases (db) to work with:\n",
    "1. Local database for developing the code\n",
    "2. The remote database from Heroku\n",
    "\n",
    "The code in this section should work for both. The only caveat is the `DATABASE_URL` variable value. Please use the switch below to set it accordingly (`True` use Heroku's db, `False` use local db)."
   ]
  },
  {
   "cell_type": "code",
   "execution_count": 2,
   "metadata": {
    "ExecuteTime": {
     "end_time": "2019-09-25T03:48:19.501514Z",
     "start_time": "2019-09-25T03:48:19.497855Z"
    }
   },
   "outputs": [],
   "source": [
    "# Make this True for working with Heroku db, False to work with local db\n",
    "if True:\n",
    "    DATABASE_URL = os.environ['DATABASE_URL']\n",
    "else:\n",
    "    DATABASE_URL = f\"dbname={os.environ['USER']}\""
   ]
  },
  {
   "cell_type": "code",
   "execution_count": 3,
   "metadata": {
    "ExecuteTime": {
     "end_time": "2019-09-25T03:48:19.512673Z",
     "start_time": "2019-09-25T03:48:19.504621Z"
    }
   },
   "outputs": [],
   "source": [
    "def write_vote_to_db(DATABASE_URL):\n",
    "    '''\n",
    "    Write vote to the database.\n",
    "    \n",
    "    Notes:\n",
    "        Grab the vote values from the Selection widget using the current index. Store geolocated:\n",
    "            place_id: LocationIQ unique identifier.\n",
    "            address: Address as is from the geolocation.\n",
    "            long: Longitude.\n",
    "            lat: Latitude.\n",
    "            count: Number of times this place has been voted. \n",
    "    '''\n",
    "    with psycopg2.connect(DATABASE_URL, sslmode='require') as conn:\n",
    "        with conn.cursor() as cur:\n",
    "            cur.execute('''\n",
    "                        CREATE TABLE IF NOT EXISTS Cities (\n",
    "                        place_id  INTEGER NOT NULL PRIMARY KEY UNIQUE,\n",
    "                        address TEXT,\n",
    "                        long FLOAT,\n",
    "                        lat FLOAT,\n",
    "                        count INTEGER);''')\n",
    "\n",
    "            # Index on select widget\n",
    "            city_idx = select.index\n",
    "            # from global variable\n",
    "            selected_city = geocoded_cities[city_idx]\n",
    "\n",
    "            place_id = selected_city.place_id\n",
    "            address = selected_city.address\n",
    "            long = selected_city.lng\n",
    "            lat = selected_city.lat\n",
    "\n",
    "            cur.execute('SELECT count FROM Cities WHERE place_id = (%s);', (place_id, ))\n",
    "            row = cur.fetchone()\n",
    "            if row is None:\n",
    "                cur.execute('''INSERT INTO Cities (place_id, address, long, lat, count)\n",
    "                        VALUES (%s, %s, %s, %s, 1);''', (place_id, address, long, lat,))\n",
    "            else:\n",
    "                cur.execute('UPDATE Cities SET count = count + 1 WHERE place_id = %s;',\n",
    "                            (place_id,))\n",
    "            conn.commit()\n",
    "            cur.close()"
   ]
  },
  {
   "cell_type": "code",
   "execution_count": 4,
   "metadata": {
    "ExecuteTime": {
     "end_time": "2019-09-25T03:48:19.531587Z",
     "start_time": "2019-09-25T03:48:19.514982Z"
    }
   },
   "outputs": [],
   "source": [
    "def read_votes_in_db(DATABASE_URL):\n",
    "    '''\n",
    "    Read votes in database and sort them by decreasing popularity\n",
    "    '''\n",
    "    with psycopg2.connect(DATABASE_URL, sslmode='require') as conn:\n",
    "        with conn.cursor() as cur:\n",
    "            sqlstr = 'SELECT address, count, lat, long FROM Cities ORDER BY count DESC;'\n",
    "            cur.execute(sqlstr)\n",
    "            sorted_cities = cur.fetchall()\n",
    "            cur.close()\n",
    "    return sorted_cities"
   ]
  },
  {
   "cell_type": "code",
   "execution_count": 5,
   "metadata": {
    "ExecuteTime": {
     "end_time": "2019-09-25T03:48:19.541112Z",
     "start_time": "2019-09-25T03:48:19.535015Z"
    }
   },
   "outputs": [],
   "source": [
    "# In case you need to drop the table (debug)\n",
    "if False:\n",
    "    cur.execute('DROP TABLE IF EXISTS Cities')"
   ]
  },
  {
   "cell_type": "markdown",
   "metadata": {},
   "source": [
    "# User interface"
   ]
  },
  {
   "cell_type": "markdown",
   "metadata": {},
   "source": [
    "## Widgets\n",
    "\n",
    "First we define the widgets to be used in the map (ipyleaflet):\n",
    "\n",
    "- **input_city**: A Text field for the user to input the name of a place.\n",
    "\n",
    "- **geocode_input_city**: A button to process the place typed in the input_city text field. This will trigger a geocoding query. If successful present geocoding results in the select widget, set the select option index to the first element, and then place a marker on the map tied to this option's coordinates; else invite user to input a valid place.\n",
    "\n",
    "- **select**: A single selection-from-options widget. Selection options are based on the geocoding results. The index will default to the first place returned by the geocoding. If the option is changed, the current marker will be remove, and a new marker will be added to the map.\n",
    "\n",
    "- **vote**: A button to add the current selected option to the db. After adding to db, display circle markers to show all entries to date, with the circle size proportional to the place's popularity (total number of entries or count). Then, deactivate all widgets to prevent the user from submitting multiple votes, and activate the refresh button, so the user can get and updated view after casting his/her vote."
   ]
  },
  {
   "cell_type": "code",
   "execution_count": 6,
   "metadata": {
    "ExecuteTime": {
     "end_time": "2019-09-25T03:48:19.597982Z",
     "start_time": "2019-09-25T03:48:19.543407Z"
    }
   },
   "outputs": [],
   "source": [
    "input_city = Text(\n",
    "                value=\"Tahiti\",\n",
    "                placeholder=\"Type the name of a place\",\n",
    "                description=\"Where to?\",\n",
    "                disabled=False\n",
    "            )\n",
    "\n",
    "geocode_input_city = Button(\n",
    "                description=\"Find places\",\n",
    "                disabled=False,\n",
    "                button_style=\"success\", # 'success', 'info', 'warning', 'danger' or ''\n",
    "                tooltip=\"Click me\",\n",
    "                icon='check'\n",
    "            )\n",
    "\n",
    "select = Select(\n",
    "            options=[\"\"],\n",
    "            value= \"\",\n",
    "            description=\"Select a city:\",\n",
    "            disabled=False,\n",
    "            )\n",
    "\n",
    "\n",
    "vote = Button(\n",
    "              description=\"Vote!\",\n",
    "              disabled=True,\n",
    "              button_style=\"success\", # 'success', 'info', 'warning', 'danger' or ''\n",
    "              tooltip=\"Click me\",\n",
    "              icon='check'\n",
    "            )\n",
    "\n",
    "refresh = Button(\n",
    "              description=\"Refresh map\",\n",
    "              disabled=False,\n",
    "              button_style=\"success\", # 'success', 'info', 'warning', 'danger' or ''\n",
    "              tooltip=\"Click me\",\n",
    "              icon='refresh',\n",
    "              layout=Layout(width='160px', height='80px')\n",
    "            )"
   ]
  },
  {
   "cell_type": "markdown",
   "metadata": {},
   "source": [
    "## Map\n",
    "\n",
    "After successful registration with LocationIQ (more information on the README file) you will be provided with a key. If you are trying to reproduce this app, your key must be stored in the text file (key.txt) inside the notebooks directory, i.e. notebooks/key.txt. **Warning**: Do not to commit your secret key to your github repository if it set to public.\n",
    "\n",
    "### Coordinate reference system\n",
    "\n",
    "Both [ipyleaflet](https://ipyleaflet.readthedocs.io/en/latest/api_reference/map.html) and LocationIQ use [EPSG 3857](https://epsg.io/3857): WGS 84 / Pseudo-Mercator -- Spherical Mercator, Google Maps, OpenStreetMap, Bing, ArcGIS, ESRI."
   ]
  },
  {
   "cell_type": "markdown",
   "metadata": {},
   "source": [
    "### Read the Key"
   ]
  },
  {
   "cell_type": "code",
   "execution_count": 7,
   "metadata": {
    "ExecuteTime": {
     "end_time": "2019-09-25T03:48:19.605879Z",
     "start_time": "2019-09-25T03:48:19.601323Z"
    }
   },
   "outputs": [],
   "source": [
    "with open(\"key.txt\", \"r\") as fhandle:\n",
    "    key = fhandle.readline().split()[0]"
   ]
  },
  {
   "cell_type": "markdown",
   "metadata": {},
   "source": [
    "### Set buttons to observe changes"
   ]
  },
  {
   "cell_type": "code",
   "execution_count": 8,
   "metadata": {
    "ExecuteTime": {
     "end_time": "2019-09-25T03:48:19.618004Z",
     "start_time": "2019-09-25T03:48:19.607697Z"
    }
   },
   "outputs": [],
   "source": [
    "def on_geocode_input_city_cliked(button):\n",
    "    global geocoded_cities\n",
    "    geocoded_cities = geocoder.locationiq(input_city.value, key=key, maxRows=4)\n",
    "    \n",
    "    if geocoded_cities.ok:\n",
    "        \n",
    "        select.options = [city.address for city in geocoded_cities]\n",
    "        \n",
    "        if geocode_input_city.button_style != \"success\":\n",
    "            geocode_input_city.button_style = \"success\"\n",
    "        \n",
    "        select.index = 0\n",
    "        \n",
    "        vote.disabled=False\n",
    "        \n",
    "    else:\n",
    "        select.options = [\"Please try again\"]\n",
    "        geocode_input_city.button_style = \"danger\"\n",
    "        geocode_input_city.description = \"Invalid city name\"\n",
    "        \n",
    "        vote.disabled=True"
   ]
  },
  {
   "cell_type": "code",
   "execution_count": 9,
   "metadata": {
    "ExecuteTime": {
     "end_time": "2019-09-25T03:48:19.626100Z",
     "start_time": "2019-09-25T03:48:19.620592Z"
    }
   },
   "outputs": [],
   "source": [
    "# revert button style to success, after a bad city input\n",
    "def on_input_text_selection(change):\n",
    "    geocode_input_city.button_style = \"success\"\n",
    "    geocode_input_city.description = \"Find places\"\n",
    "    \n",
    "    select.options = [\"\"]\n",
    "    \n",
    "input_city.observe(on_input_text_selection, names=\"value\")"
   ]
  },
  {
   "cell_type": "code",
   "execution_count": 10,
   "metadata": {
    "ExecuteTime": {
     "end_time": "2019-09-25T03:48:19.639095Z",
     "start_time": "2019-09-25T03:48:19.627736Z"
    }
   },
   "outputs": [],
   "source": [
    "def remove_map_layer_type(m, layer_type):\n",
    "    for layer in m.layers:\n",
    "        if layer.__class__.__name__ == layer_type:\n",
    "            m.remove_layer(layer)"
   ]
  },
  {
   "cell_type": "code",
   "execution_count": 11,
   "metadata": {
    "ExecuteTime": {
     "end_time": "2019-09-25T03:48:19.649351Z",
     "start_time": "2019-09-25T03:48:19.641751Z"
    }
   },
   "outputs": [],
   "source": [
    "def on_selection_change(change):\n",
    "    \n",
    "    if geocoded_cities.ok:\n",
    "        remove_map_layer_type(m, \"Marker\")\n",
    "\n",
    "        city_idx = select.index\n",
    "        selected_city = geocoded_cities[city_idx]\n",
    "\n",
    "        name = selected_city.address\n",
    "        lat = selected_city.lat\n",
    "        long = selected_city.lng\n",
    "\n",
    "        marker = Marker(location=[lat, long])\n",
    "        m.add_layer(marker)\n",
    "\n",
    "        message = HTML()\n",
    "        message.value = name\n",
    "\n",
    "        marker.popup = message\n",
    "    \n",
    "select.observe(on_selection_change, names=\"index\")    "
   ]
  },
  {
   "cell_type": "code",
   "execution_count": 12,
   "metadata": {
    "ExecuteTime": {
     "end_time": "2019-09-25T03:48:19.658047Z",
     "start_time": "2019-09-25T03:48:19.651484Z"
    }
   },
   "outputs": [],
   "source": [
    "def refresh_plot(m, cities=None):\n",
    "    # Remove old circles if present\n",
    "    remove_map_layer_type(m, \"CircleMarker\")\n",
    "\n",
    "    sorted_cities = read_votes_in_db(DATABASE_URL)\n",
    "    \n",
    "    max_count = sorted_cities[0][1] # First row, second field (count)\n",
    "\n",
    "    max_radius = 20\n",
    "    for row in sorted_cities:\n",
    "        address, count, lat, long = row\n",
    "\n",
    "        name = address.split(\",\")[0]\n",
    "\n",
    "        radius = round((count * max_radius)/ max_count)\n",
    "        marker = CircleMarker(location=[lat, long], fill_color='black', color='black', radius=radius, weight=2)\n",
    "        m.add_layer(marker)\n",
    "        marker.popup = HTML(f\"{name}, Popularity: {count}\")"
   ]
  },
  {
   "cell_type": "code",
   "execution_count": 13,
   "metadata": {
    "ExecuteTime": {
     "end_time": "2019-09-25T03:48:19.677576Z",
     "start_time": "2019-09-25T03:48:19.660586Z"
    }
   },
   "outputs": [],
   "source": [
    "def on_vote_clicked(button): \n",
    "    # remove selection markers\n",
    "    remove_map_layer_type(m, \"Marker\")\n",
    "    \n",
    "    write_vote_to_db(DATABASE_URL)\n",
    "        \n",
    "    select.disabled = True\n",
    "    vote.disabled = True\n",
    "    geocode_input_city.disabled = True\n",
    "    input_city.disabled = True\n",
    "    \n",
    "    refresh_plot(m)\n",
    "    \n",
    "    # Remove Widget controls after succesful vote\n",
    "    for control in m.controls:\n",
    "        if control.__class__.__name__ == \"WidgetControl\":\n",
    "            m.remove_control(control)\n",
    "    \n",
    "    # Add refresh button\n",
    "    widget_control_refresh = WidgetControl(widget=refresh, position=\"topleft\")\n",
    "    m.add_control(widget_control_refresh)"
   ]
  },
  {
   "cell_type": "code",
   "execution_count": 14,
   "metadata": {
    "ExecuteTime": {
     "end_time": "2019-09-25T03:48:19.683687Z",
     "start_time": "2019-09-25T03:48:19.680044Z"
    }
   },
   "outputs": [],
   "source": [
    "def on_refresh_clicked(button):\n",
    "    refresh_plot(m)"
   ]
  },
  {
   "cell_type": "code",
   "execution_count": 15,
   "metadata": {
    "ExecuteTime": {
     "end_time": "2019-09-25T03:48:19.769646Z",
     "start_time": "2019-09-25T03:48:19.686047Z"
    },
    "scrolled": false
   },
   "outputs": [
    {
     "data": {
      "application/vnd.jupyter.widget-view+json": {
       "model_id": "f321a094d1584ac2b4fb0c3aeafa012f",
       "version_major": 2,
       "version_minor": 0
      },
      "text/plain": [
       "Map(basemap={'url': 'https://{s}.tile.openstreetmap.org/{z}/{x}/{y}.png', 'max_zoom': 19, 'attribution': 'Map …"
      ]
     },
     "metadata": {},
     "output_type": "display_data"
    }
   ],
   "source": [
    "m = Map(zoom=2, world_copy_jump=True)\n",
    "\n",
    "opentopo_layer = basemap_to_tiles(basemaps.OpenTopoMap)\n",
    "m.add_layer(opentopo_layer)\n",
    "\n",
    "m.add_control(FullScreenControl())\n",
    "\n",
    "widget_control_inputText = WidgetControl(widget=input_city, position=\"topleft\")\n",
    "widget_control_geocode_input_city = WidgetControl(widget=geocode_input_city, position=\"topleft\")\n",
    "widget_control_select = WidgetControl(widget=select, position=\"topleft\")\n",
    "widget_control_vote = WidgetControl(widget=vote, position=\"topleft\")\n",
    "\n",
    "m.add_control(widget_control_inputText)\n",
    "m.add_control(widget_control_geocode_input_city)\n",
    "m.add_control(widget_control_select)\n",
    "m.add_control(widget_control_vote)\n",
    "\n",
    "geocode_input_city.on_click(on_geocode_input_city_cliked)\n",
    "\n",
    "vote.on_click(on_vote_clicked)\n",
    "\n",
    "refresh.on_click(on_refresh_clicked)\n",
    "\n",
    "m"
   ]
  }
 ],
 "metadata": {
  "hide_input": false,
  "kernelspec": {
   "display_name": "Python 3",
   "language": "python",
   "name": "python3"
  },
  "language_info": {
   "codemirror_mode": {
    "name": "ipython",
    "version": 3
   },
   "file_extension": ".py",
   "mimetype": "text/x-python",
   "name": "python",
   "nbconvert_exporter": "python",
   "pygments_lexer": "ipython3",
   "version": "3.7.4"
  },
  "toc": {
   "base_numbering": 1,
   "nav_menu": {},
   "number_sections": true,
   "sideBar": true,
   "skip_h1_title": false,
   "title_cell": "Table of Contents",
   "title_sidebar": "Contents",
   "toc_cell": false,
   "toc_position": {},
   "toc_section_display": true,
   "toc_window_display": false
  },
  "varInspector": {
   "cols": {
    "lenName": 16,
    "lenType": 16,
    "lenVar": 40
   },
   "kernels_config": {
    "python": {
     "delete_cmd_postfix": "",
     "delete_cmd_prefix": "del ",
     "library": "var_list.py",
     "varRefreshCmd": "print(var_dic_list())"
    },
    "r": {
     "delete_cmd_postfix": ") ",
     "delete_cmd_prefix": "rm(",
     "library": "var_list.r",
     "varRefreshCmd": "cat(var_dic_list()) "
    }
   },
   "types_to_exclude": [
    "module",
    "function",
    "builtin_function_or_method",
    "instance",
    "_Feature"
   ],
   "window_display": false
  }
 },
 "nbformat": 4,
 "nbformat_minor": 2
}
